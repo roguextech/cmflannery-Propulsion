{
 "cells": [
  {
   "cell_type": "code",
   "execution_count": 2,
   "metadata": {
    "collapsed": true
   },
   "outputs": [],
   "source": [
    "import os\n",
    "import scrapy"
   ]
  },
  {
   "cell_type": "code",
   "execution_count": null,
   "metadata": {},
   "outputs": [],
   "source": [
    "class PDF_spider(scrapy.Spider):\n",
    "    name = 'pdf_spider'\n",
    "    start_urls = ['http://asanchez.ucsd.edu/teaching/mae-105/']\n",
    "\n",
    "    def parse(self, response):\n",
    "        for href in response.css('.question-summary h3 a::attr(href)'):\n",
    "            full_url = response.urljoin(href.extract())\n",
    "            yield scrapy.Request(full_url, callback=self.parse_question)"
   ]
  }
 ],
 "metadata": {
  "kernelspec": {
   "display_name": "Python 2",
   "language": "python",
   "name": "python2"
  },
  "language_info": {
   "codemirror_mode": {
    "name": "ipython",
    "version": 2.0
   },
   "file_extension": ".py",
   "mimetype": "text/x-python",
   "name": "python",
   "nbconvert_exporter": "python",
   "pygments_lexer": "ipython2",
   "version": "2.7.6"
  }
 },
 "nbformat": 4,
 "nbformat_minor": 0
}