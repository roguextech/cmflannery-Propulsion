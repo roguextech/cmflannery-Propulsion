{
 "cells": [
  {
   "cell_type": "code",
   "execution_count": null,
   "metadata": {
    "collapsed": true
   },
   "outputs": [],
   "source": [
    "A =[2612.364131\n",
    "2720.291238\n",
    "2826.463651\n",
    "2930.393446\n",
    "3031.588968\n",
    "3129.558625\n",
    "3223.814804\n",
    "3313.877854\n",
    "3399.280104\n",
    "3479.569871\n",
    "3554.315397\n",
    "3623.108687\n",
    "3685.569187\n",
    "3741.347263\n",
    "3790.127433\n",
    "3831.63132\n",
    "3865.620273\n",
    "3891.897635\n",
    "3910.310624\n",
    "3920.751797\n",
    "3923.160089\n",
    "3917.521401\n",
    "3903.868737\n",
    "3882.281882\n",
    "3852.886637\n",
    "3815.853604\n",
    "3771.396554\n",
    "3719.770384\n",
    "3661.26871\n",
    "3596.221097]"
   ]
  },
  {
   "cell_type": "code",
   "execution_count": null,
   "outputs": [],
   "source": [
    ""
   ]
  },
  {
   "cell_type": "code",
   "execution_count": null,
   "outputs": [],
   "source": [
    ""
   ]
  }
 ],
 "metadata": {
  "kernelspec": {
   "display_name": "Python 2",
   "language": "python",
   "name": "python2"
  },
  "language_info": {
   "codemirror_mode": {
    "name": "ipython",
    "version": 2.0
   },
   "file_extension": ".py",
   "mimetype": "text/x-python",
   "name": "python",
   "nbconvert_exporter": "python",
   "pygments_lexer": "ipython2",
   "version": "2.7.6"
  }
 },
 "nbformat": 4,
 "nbformat_minor": 0
}